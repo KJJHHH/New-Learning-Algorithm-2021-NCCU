{
 "cells": [
  {
   "cell_type": "code",
   "execution_count": 2,
   "metadata": {},
   "outputs": [
    {
     "name": "stdout",
     "output_type": "stream",
     "text": [
      "The autoreload extension is already loaded. To reload it, use:\n",
      "  %reload_ext autoreload\n"
     ]
    }
   ],
   "source": [
    "%load_ext autoreload\n",
    "%autoreload 2\n",
    "import sys, os\n",
    "from torch.utils.data import Dataset, DataLoader\n",
    "from sklearn.preprocessing import StandardScaler\n",
    "from sklearn.linear_model import LinearRegression\n",
    "from sklearn.linear_model import Ridge\n",
    "from sklearn.ensemble import StackingRegressor\n",
    "import  xgboost as xgb\n",
    "import torch, copy\n",
    "import torch.nn as nn\n",
    "import torch.optim as optim\n",
    "import torch.utils.data as Data\n",
    "import torch.nn.functional as F\n",
    "import torchvision\n",
    "import  matplotlib.pyplot as plt\n",
    "import numpy as np\n",
    "import pandas as pd\n",
    "import datetime, sys, pickle\n",
    "sys.path.append(os.path.dirname(os.getcwd()))\n",
    "\n",
    "from module.Model import TwoLayerNet\n",
    "from module.Weight_tune import *\n",
    "from module.Reorg import *\n",
    "from module.Cram import *\n",
    "from module.Init import *\n",
    "from module.LTS import *\n",
    "from module.utils import *\n",
    "import datetime\n",
    "# NOTE: in data.py and module.Data both have \"preprocess()\" function but not the same\n",
    "from module.Data import *\n",
    "from data import *\n",
    "\n",
    "\n"
   ]
  },
  {
   "cell_type": "markdown",
   "metadata": {},
   "source": [
    "# New Learning mechanism"
   ]
  },
  {
   "cell_type": "markdown",
   "metadata": {},
   "source": [
    "### Virtual env\n"
   ]
  },
  {
   "cell_type": "markdown",
   "metadata": {},
   "source": [
    "- GPU, CUDA 12.0"
   ]
  },
  {
   "cell_type": "markdown",
   "metadata": {},
   "source": [
    "### Config"
   ]
  },
  {
   "cell_type": "code",
   "execution_count": 21,
   "metadata": {},
   "outputs": [],
   "source": [
    "dtype = torch.float64\n",
    "init = 'random'\n",
    "random_seed = 48\n",
    "\n",
    "# init some hypers\n",
    "learning_goal = torch.tensor(2.05).to(device, dtype) # emprical\n",
    "lr_rate = .001\n",
    "lr_bound = 1e-6\n",
    "criterion = nn.MSELoss()\n",
    "epochs = 2000\n",
    "\n",
    "# config for weight tune\n",
    "config_wt = {\n",
    "    \"epochs\": epochs,\n",
    "    \"criterion\": criterion,        # loss function\n",
    "    \"lr_rate\": lr_rate,            # learning rate \n",
    "    \"lr_bound\": lr_bound,          # lower bound of learning rate \n",
    "    \"lr_goal\": learning_goal,      # if regular eps < eps_reg: accept the model\n",
    "}\n",
    "\n",
    "# config for cram\n",
    "config_cram = {\n",
    "    \"lr_goal\": learning_goal, \n",
    "    \"s\": 0.001,                     # a small num in cram\n",
    "}\n",
    "\n",
    "# config for reorganise\n",
    "config_reorg  = {\n",
    "    \"epochs\": epochs,\n",
    "    \"criterion\": criterion,        # loss function\n",
    "    \"lr_rate\": lr_rate,            # learning rate \n",
    "    \"lr_bound\": lr_bound,          # lower bound of learning rate \n",
    "    \"lr_goal\": learning_goal,      # if regular eps < eps_reg: accept the model\n",
    "    \"print_reg\": False,            # print detail, eg. loss for each epoch, or not\n",
    "    \"print_w_tune\": False,         # print detail, eg. loss for each epoch, or not\n",
    "    \"validate_run\": False,         # validate the model, or not\n",
    "}\n"
   ]
  },
  {
   "cell_type": "markdown",
   "metadata": {},
   "source": [
    "### Data"
   ]
  },
  {
   "cell_type": "code",
   "execution_count": 22,
   "metadata": {},
   "outputs": [
    {
     "name": "stdout",
     "output_type": "stream",
     "text": [
      "data device: \n"
     ]
    },
    {
     "data": {
      "text/plain": [
       "(device(type='cuda', index=0),\n",
       " device(type='cuda', index=0),\n",
       " device(type='cuda', index=0),\n",
       " device(type='cuda', index=0))"
      ]
     },
     "execution_count": 22,
     "metadata": {},
     "output_type": "execute_result"
    }
   ],
   "source": [
    "X_train, y_train, X_val, y_val, index_train, index_val = preprocess(random_seed)\n",
    "input_dim = X_train.shape[1]\n",
    "X_train, y_train, X_test, y_test = cpu_to_gpu(X_train, y_train, X_val, y_val)\n",
    "test_loader = loader(X_test, y_test)\n",
    "print(\"data device: \")\n",
    "X_train.device, y_train.device, X_test.device, y_test.device"
   ]
  },
  {
   "cell_type": "markdown",
   "metadata": {},
   "source": [
    "### Full Path"
   ]
  },
  {
   "cell_type": "markdown",
   "metadata": {},
   "source": [
    "- L11 p9, third learning mechanism\\\n",
    "`Check: should y add .reshape(-1, 1)? since some warning shows when testing the final model`\\\n",
    "`Check validate section`    \n",
    "`Check not using test data to train`"
   ]
  },
  {
   "cell_type": "code",
   "execution_count": null,
   "metadata": {},
   "outputs": [],
   "source": [
    "#################################################################\n",
    "# Full step for the learning algorithm mechanism\n",
    "# NOTE\n",
    "# 1. model right before reorg always need to be acceptable model\n",
    "# 2. model after cram and reorg always need to be acceptable \n",
    "# 3. check for the above every time after cram and reorg\n",
    "# 4. the randomness: in cram find r\n",
    "#################################################################\n",
    "from module.Cram import *\n",
    "from module.Reorg import *\n",
    "from module.Weight_tune import *\n",
    "\n",
    "# 0. Open log file\n",
    "file_create_time = str(datetime.datetime.now().date())\n",
    "out_file = open(f\"log/{file_create_time}\" + '.txt', 'a')\n",
    "write(out_file, f\"#######################################\")\n",
    "write(out_file, str(datetime.datetime.now()))\n",
    "write(out_file, f\"#######################################\")\n",
    "\n",
    "# 1. initializing_1_ReLU_LR | L11 p2\n",
    "# 2. Init lts\n",
    "\"\"\"\n",
    "NOTE:\n",
    "1.  n_not_fit: train selected by lts have n_not_fit cases that do not fit learning goal\n",
    "2.  n: total sample in train selected by lts\n",
    "\"\"\"\n",
    "write(out_file, f\"-------> Initislising model\")\n",
    "if init == 'linear':\n",
    "    model = init_model(X_train, y_train)\n",
    "    n, n_not_fit = init_lts(out_file, model, X_train, y_train, learning_goal)\n",
    "elif init == 'random':\n",
    "    while True:\n",
    "        model = TwoLayerNet(287, 20, 1)\n",
    "        train_loader = loader(X_train, y_train)\n",
    "        config_wt[\"epochs\"] = 3000\n",
    "        acceptable, model, train_loss_list, test_loss_list = \\\n",
    "                    module_weight_EU_LG_UA(model, train_loader, test_loader, out_file, **config_wt)\n",
    "        n, n_not_fit = init_lts(out_file, model, X_train, y_train, learning_goal)\n",
    "        if n_not_fit <= 250:\n",
    "            config_wt[\"epochs\"] = epochs\n",
    "            break\n",
    "print(f\"INIT model: {model}\")\n",
    "\n",
    "\n",
    "\n",
    "# store model during training\n",
    "model_history = {}\n",
    "\n",
    "# start full learning algorithm\n",
    "while n < len(X_train):\n",
    "    write(out_file, f\"\\n\\n\\n\")\n",
    "    write(out_file, f\"=======================\")\n",
    "    write(out_file, f\"//////////// Start New lts\")\n",
    "    models_within_iter = {}\n",
    "    # 3. obtaining_LTS / selecting_LTS\n",
    "    write(out_file, f\"Total sample: {X_train.shape[0]}\")\n",
    "    train_loader, indices, X_train_lts, y_train_lts, n = \\\n",
    "        lts(model, X_train, y_train, learning_goal, n_not_fit, out_file)\n",
    "\n",
    "    # 4. check learning goal\n",
    "    acceptable, eps_sqaure, y_pred = acceptable_eps_ypred(train_loader, model, learning_goal)\n",
    "    models_within_iter[\"begin\"] = model\n",
    "    if acceptable:\n",
    "        continue\n",
    "\n",
    "    else:\n",
    "        torch.save(model, \"unacceptable/selecting.pth\")\n",
    "\n",
    "        # store model in acceptable/wt.pth if acceptable\n",
    "        # store model in unacceptable/wt.pth if not acceptable\n",
    "        write(out_file, f\"//////////// Start module_EU_LG_UA Epoch\")\n",
    "        acceptable, model, train_loss_list, test_loss_list = \\\n",
    "            module_weight_EU_LG_UA(model, train_loader, test_loader, out_file, **config_wt)\n",
    "        models_within_iter[\"wt\"] = model\n",
    "        \n",
    "        if acceptable:\n",
    "            write(out_file, \"////////// Start REORG with accpetable wt\")   \n",
    "            write(out_file, f\"model after wt: {model}\")\n",
    "            \n",
    "            # load model in acceptable/wt.pth if wt acceptable\n",
    "            pre_module = \"wt\"\n",
    "            reorg = reorganising(pre_module, train_loader, test_loader, out_file, **config_reorg)\n",
    "            reorg.reorganising()\n",
    "            model = reorg.model\n",
    "            models_within_iter[\"reorg\"] = model\n",
    "            write(out_file, f\"model after reorg: {model}\")\n",
    "\n",
    "        else:\n",
    "            write(out_file, \"////////// Start CRAM and REORG with unacceptable wt //////////\")\n",
    "\n",
    "            # load model before wt: unacceptable/selecting.pth if unacceptable after wt\n",
    "            model = torch.load(\"unacceptable/selecting.pth\")    \n",
    "            acceptable, eps_square, y_pred = acceptable_eps_ypred(train_loader, model, learning_goal)\n",
    "            write(out_file, f\"model after wt: {model}\")\n",
    "            write(out_file, f\"eps_square (last 10) before cram: {eps_square[-10:].reshape(-1)}\")\n",
    "\n",
    "            # load model in unacceptable/wt.pth if wt not acceptable       \n",
    "            # store acceptable cram in acceptable/cram.pth \n",
    "            cram = cramming(model, X_train[indices], y_train[indices], out_file, **config_cram)            \n",
    "            cram.cram() \n",
    "            model = cram.model\n",
    "            models_within_iter[\"cram\"] = model\n",
    "            acceptable, eps_square, y_pred = acceptable_eps_ypred(train_loader, model, learning_goal)\n",
    "            write(out_file, f\"model after cram: {model}\")  \n",
    "            write(out_file, f\"eps_sqaure (last 10) after cram: {eps_square[-10:].reshape(-1)}\")\n",
    "            if not acceptable:\n",
    "                write(out_file, \"weird cram\\n\")\n",
    "                break\n",
    "\n",
    "            # load model in acceptable/cram.pth if cram acceptable\n",
    "            # store acceptable cram in acceptable/cram.pth\n",
    "            pre_module = \"cram\"\n",
    "            reorg = reorganising(pre_module, train_loader, test_loader, out_file, **config_reorg)\n",
    "            reorg.reorganising()\n",
    "            if reorg.model == \"fail regularise\" or reorg.model == \"no acceptable slfn\":\n",
    "                write(out_file, \"weird reorg\")\n",
    "\n",
    "            model = reorg.model\n",
    "            models_within_iter[\"reorg\"] = model\n",
    "            write(out_file, f\"model after reorg: {model}\")\n",
    "\n",
    "            # check \n",
    "            acceptable, eps_square, y_pred = acceptable_eps_ypred(train_loader, model, learning_goal)\n",
    "            if acceptable:\n",
    "                pass\n",
    "            else:\n",
    "                write(out_file, \"weird reorg\")\n",
    "                break\n",
    "            \n",
    "    model_history[n] = models_within_iter\n",
    "\n",
    "# run time: 316 min"
   ]
  },
  {
   "cell_type": "markdown",
   "metadata": {},
   "source": [
    "### Store Result"
   ]
  },
  {
   "cell_type": "code",
   "execution_count": 9,
   "metadata": {},
   "outputs": [
    {
     "data": {
      "text/plain": [
       "'\\nwith open(\"result/updated_models_first.pk\", \"rb\") as f:\\n    model_history = pickle.load(f)\\n'"
      ]
     },
     "execution_count": 9,
     "metadata": {},
     "output_type": "execute_result"
    }
   ],
   "source": [
    "# stores models\n",
    "with open(\n",
    "    f\"final_mod/final_models_\"\n",
    "    f\"{init}_{epochs}_{learning_goal:.2f}_{lr_rate}_{random_seed}_\"\n",
    "    f\"{datetime.datetime.now().date()}.pk\", \"wb\") as f:    \n",
    "        pickle.dump(model_history, f)\n",
    "\n",
    "out_file.close()"
   ]
  },
  {
   "cell_type": "markdown",
   "metadata": {},
   "source": [
    "### Benchmark"
   ]
  },
  {
   "cell_type": "code",
   "execution_count": 8,
   "metadata": {},
   "outputs": [
    {
     "data": {
      "text/html": [
       "<style>#sk-container-id-1 {color: black;}#sk-container-id-1 pre{padding: 0;}#sk-container-id-1 div.sk-toggleable {background-color: white;}#sk-container-id-1 label.sk-toggleable__label {cursor: pointer;display: block;width: 100%;margin-bottom: 0;padding: 0.3em;box-sizing: border-box;text-align: center;}#sk-container-id-1 label.sk-toggleable__label-arrow:before {content: \"▸\";float: left;margin-right: 0.25em;color: #696969;}#sk-container-id-1 label.sk-toggleable__label-arrow:hover:before {color: black;}#sk-container-id-1 div.sk-estimator:hover label.sk-toggleable__label-arrow:before {color: black;}#sk-container-id-1 div.sk-toggleable__content {max-height: 0;max-width: 0;overflow: hidden;text-align: left;background-color: #f0f8ff;}#sk-container-id-1 div.sk-toggleable__content pre {margin: 0.2em;color: black;border-radius: 0.25em;background-color: #f0f8ff;}#sk-container-id-1 input.sk-toggleable__control:checked~div.sk-toggleable__content {max-height: 200px;max-width: 100%;overflow: auto;}#sk-container-id-1 input.sk-toggleable__control:checked~label.sk-toggleable__label-arrow:before {content: \"▾\";}#sk-container-id-1 div.sk-estimator input.sk-toggleable__control:checked~label.sk-toggleable__label {background-color: #d4ebff;}#sk-container-id-1 div.sk-label input.sk-toggleable__control:checked~label.sk-toggleable__label {background-color: #d4ebff;}#sk-container-id-1 input.sk-hidden--visually {border: 0;clip: rect(1px 1px 1px 1px);clip: rect(1px, 1px, 1px, 1px);height: 1px;margin: -1px;overflow: hidden;padding: 0;position: absolute;width: 1px;}#sk-container-id-1 div.sk-estimator {font-family: monospace;background-color: #f0f8ff;border: 1px dotted black;border-radius: 0.25em;box-sizing: border-box;margin-bottom: 0.5em;}#sk-container-id-1 div.sk-estimator:hover {background-color: #d4ebff;}#sk-container-id-1 div.sk-parallel-item::after {content: \"\";width: 100%;border-bottom: 1px solid gray;flex-grow: 1;}#sk-container-id-1 div.sk-label:hover label.sk-toggleable__label {background-color: #d4ebff;}#sk-container-id-1 div.sk-serial::before {content: \"\";position: absolute;border-left: 1px solid gray;box-sizing: border-box;top: 0;bottom: 0;left: 50%;z-index: 0;}#sk-container-id-1 div.sk-serial {display: flex;flex-direction: column;align-items: center;background-color: white;padding-right: 0.2em;padding-left: 0.2em;position: relative;}#sk-container-id-1 div.sk-item {position: relative;z-index: 1;}#sk-container-id-1 div.sk-parallel {display: flex;align-items: stretch;justify-content: center;background-color: white;position: relative;}#sk-container-id-1 div.sk-item::before, #sk-container-id-1 div.sk-parallel-item::before {content: \"\";position: absolute;border-left: 1px solid gray;box-sizing: border-box;top: 0;bottom: 0;left: 50%;z-index: -1;}#sk-container-id-1 div.sk-parallel-item {display: flex;flex-direction: column;z-index: 1;position: relative;background-color: white;}#sk-container-id-1 div.sk-parallel-item:first-child::after {align-self: flex-end;width: 50%;}#sk-container-id-1 div.sk-parallel-item:last-child::after {align-self: flex-start;width: 50%;}#sk-container-id-1 div.sk-parallel-item:only-child::after {width: 0;}#sk-container-id-1 div.sk-dashed-wrapped {border: 1px dashed gray;margin: 0 0.4em 0.5em 0.4em;box-sizing: border-box;padding-bottom: 0.4em;background-color: white;}#sk-container-id-1 div.sk-label label {font-family: monospace;font-weight: bold;display: inline-block;line-height: 1.2em;}#sk-container-id-1 div.sk-label-container {text-align: center;}#sk-container-id-1 div.sk-container {/* jupyter's `normalize.less` sets `[hidden] { display: none; }` but bootstrap.min.css set `[hidden] { display: none !important; }` so we also need the `!important` here to be able to override the default hidden behavior on the sphinx rendered scikit-learn.org. See: https://github.com/scikit-learn/scikit-learn/issues/21755 */display: inline-block !important;position: relative;}#sk-container-id-1 div.sk-text-repr-fallback {display: none;}</style><div id=\"sk-container-id-1\" class=\"sk-top-container\"><div class=\"sk-text-repr-fallback\"><pre>StackingRegressor(estimators=[(&#x27;ridge&#x27;, Ridge(alpha=15)),\n",
       "                              (&#x27;XGB&#x27;,\n",
       "                               XGBRegressor(base_score=None, booster=None,\n",
       "                                            callbacks=None,\n",
       "                                            colsample_bylevel=None,\n",
       "                                            colsample_bynode=None,\n",
       "                                            colsample_bytree=0.2050378195385253,\n",
       "                                            device=None,\n",
       "                                            early_stopping_rounds=None,\n",
       "                                            enable_categorical=False,\n",
       "                                            eval_metric=None,\n",
       "                                            feature_types=None, gamma=None,\n",
       "                                            grow_policy=None,\n",
       "                                            importance_type=None,\n",
       "                                            interaction_constraints=None,\n",
       "                                            learning_rate=0.00875, max_bin=None,\n",
       "                                            max_cat_threshold=None,\n",
       "                                            max_cat_to_onehot=None,\n",
       "                                            max_delta_step=None, max_depth=4,\n",
       "                                            max_leaves=None, min_child_weight=2,\n",
       "                                            missing=nan,\n",
       "                                            monotone_constraints=None,\n",
       "                                            multi_strategy=None,\n",
       "                                            n_estimators=3515, n_jobs=None,\n",
       "                                            num_parallel_tree=None,\n",
       "                                            random_state=42, ...))],\n",
       "                  final_estimator=LinearRegression())</pre><b>In a Jupyter environment, please rerun this cell to show the HTML representation or trust the notebook. <br />On GitHub, the HTML representation is unable to render, please try loading this page with nbviewer.org.</b></div><div class=\"sk-container\" hidden><div class=\"sk-item sk-dashed-wrapped\"><div class=\"sk-label-container\"><div class=\"sk-label sk-toggleable\"><input class=\"sk-toggleable__control sk-hidden--visually\" id=\"sk-estimator-id-1\" type=\"checkbox\" ><label for=\"sk-estimator-id-1\" class=\"sk-toggleable__label sk-toggleable__label-arrow\">StackingRegressor</label><div class=\"sk-toggleable__content\"><pre>StackingRegressor(estimators=[(&#x27;ridge&#x27;, Ridge(alpha=15)),\n",
       "                              (&#x27;XGB&#x27;,\n",
       "                               XGBRegressor(base_score=None, booster=None,\n",
       "                                            callbacks=None,\n",
       "                                            colsample_bylevel=None,\n",
       "                                            colsample_bynode=None,\n",
       "                                            colsample_bytree=0.2050378195385253,\n",
       "                                            device=None,\n",
       "                                            early_stopping_rounds=None,\n",
       "                                            enable_categorical=False,\n",
       "                                            eval_metric=None,\n",
       "                                            feature_types=None, gamma=None,\n",
       "                                            grow_policy=None,\n",
       "                                            importance_type=None,\n",
       "                                            interaction_constraints=None,\n",
       "                                            learning_rate=0.00875, max_bin=None,\n",
       "                                            max_cat_threshold=None,\n",
       "                                            max_cat_to_onehot=None,\n",
       "                                            max_delta_step=None, max_depth=4,\n",
       "                                            max_leaves=None, min_child_weight=2,\n",
       "                                            missing=nan,\n",
       "                                            monotone_constraints=None,\n",
       "                                            multi_strategy=None,\n",
       "                                            n_estimators=3515, n_jobs=None,\n",
       "                                            num_parallel_tree=None,\n",
       "                                            random_state=42, ...))],\n",
       "                  final_estimator=LinearRegression())</pre></div></div></div><div class=\"sk-serial\"><div class=\"sk-item\"><div class=\"sk-parallel\"><div class=\"sk-parallel-item\"><div class=\"sk-item\"><div class=\"sk-label-container\"><div class=\"sk-label sk-toggleable\"><label>ridge</label></div></div><div class=\"sk-serial\"><div class=\"sk-item\"><div class=\"sk-estimator sk-toggleable\"><input class=\"sk-toggleable__control sk-hidden--visually\" id=\"sk-estimator-id-2\" type=\"checkbox\" ><label for=\"sk-estimator-id-2\" class=\"sk-toggleable__label sk-toggleable__label-arrow\">Ridge</label><div class=\"sk-toggleable__content\"><pre>Ridge(alpha=15)</pre></div></div></div></div></div></div><div class=\"sk-parallel-item\"><div class=\"sk-item\"><div class=\"sk-label-container\"><div class=\"sk-label sk-toggleable\"><label>XGB</label></div></div><div class=\"sk-serial\"><div class=\"sk-item\"><div class=\"sk-estimator sk-toggleable\"><input class=\"sk-toggleable__control sk-hidden--visually\" id=\"sk-estimator-id-3\" type=\"checkbox\" ><label for=\"sk-estimator-id-3\" class=\"sk-toggleable__label sk-toggleable__label-arrow\">XGBRegressor</label><div class=\"sk-toggleable__content\"><pre>XGBRegressor(base_score=None, booster=None, callbacks=None,\n",
       "             colsample_bylevel=None, colsample_bynode=None,\n",
       "             colsample_bytree=0.2050378195385253, device=None,\n",
       "             early_stopping_rounds=None, enable_categorical=False,\n",
       "             eval_metric=None, feature_types=None, gamma=None, grow_policy=None,\n",
       "             importance_type=None, interaction_constraints=None,\n",
       "             learning_rate=0.00875, max_bin=None, max_cat_threshold=None,\n",
       "             max_cat_to_onehot=None, max_delta_step=None, max_depth=4,\n",
       "             max_leaves=None, min_child_weight=2, missing=nan,\n",
       "             monotone_constraints=None, multi_strategy=None, n_estimators=3515,\n",
       "             n_jobs=None, num_parallel_tree=None, random_state=42, ...)</pre></div></div></div></div></div></div></div></div><div class=\"sk-item\"><div class=\"sk-parallel\"><div class=\"sk-parallel-item\"><div class=\"sk-item\"><div class=\"sk-label-container\"><div class=\"sk-label sk-toggleable\"><label>final_estimator</label></div></div><div class=\"sk-serial\"><div class=\"sk-item\"><div class=\"sk-estimator sk-toggleable\"><input class=\"sk-toggleable__control sk-hidden--visually\" id=\"sk-estimator-id-4\" type=\"checkbox\" ><label for=\"sk-estimator-id-4\" class=\"sk-toggleable__label sk-toggleable__label-arrow\">LinearRegression</label><div class=\"sk-toggleable__content\"><pre>LinearRegression()</pre></div></div></div></div></div></div></div></div></div></div></div></div>"
      ],
      "text/plain": [
       "StackingRegressor(estimators=[('ridge', Ridge(alpha=15)),\n",
       "                              ('XGB',\n",
       "                               XGBRegressor(base_score=None, booster=None,\n",
       "                                            callbacks=None,\n",
       "                                            colsample_bylevel=None,\n",
       "                                            colsample_bynode=None,\n",
       "                                            colsample_bytree=0.2050378195385253,\n",
       "                                            device=None,\n",
       "                                            early_stopping_rounds=None,\n",
       "                                            enable_categorical=False,\n",
       "                                            eval_metric=None,\n",
       "                                            feature_types=None, gamma=None,\n",
       "                                            grow_policy=None,\n",
       "                                            importance_type=None,\n",
       "                                            interaction_constraints=None,\n",
       "                                            learning_rate=0.00875, max_bin=None,\n",
       "                                            max_cat_threshold=None,\n",
       "                                            max_cat_to_onehot=None,\n",
       "                                            max_delta_step=None, max_depth=4,\n",
       "                                            max_leaves=None, min_child_weight=2,\n",
       "                                            missing=nan,\n",
       "                                            monotone_constraints=None,\n",
       "                                            multi_strategy=None,\n",
       "                                            n_estimators=3515, n_jobs=None,\n",
       "                                            num_parallel_tree=None,\n",
       "                                            random_state=42, ...))],\n",
       "                  final_estimator=LinearRegression())"
      ]
     },
     "execution_count": 8,
     "metadata": {},
     "output_type": "execute_result"
    }
   ],
   "source": [
    "from sklearn.linear_model import LinearRegression\n",
    "from sklearn.linear_model import Ridge\n",
    "from sklearn.ensemble import StackingRegressor\n",
    "import  xgboost as xgb\n",
    "\n",
    "# Data\n",
    "X_train_np, y_train_np, X_test_np, y_test_np, index_train, index_val = preprocess(random_seed)\n",
    "input_dim = X_train_np.shape[1]\n",
    "X_train_np.shape, X_test.shape\n",
    "\n",
    "# model from: https://www.kaggle.com/code/nawazhaider/top-1-solution-xgboost-ridge\n",
    "xgb_params = {\n",
    "    'max_depth': 4, \n",
    "    'learning_rate': 0.00875, \n",
    "    'n_estimators': 3515, \n",
    "    'min_child_weight': 2, \n",
    "    'colsample_bytree': 0.2050378195385253, \n",
    "    'subsample': 0.40369887914955715, \n",
    "    'reg_alpha': 0.3301567121037565, \n",
    "    'reg_lambda': 0.046181862052743}\n",
    "xgbr = xgb.XGBRegressor(**xgb_params, random_state=42)\n",
    "model_bench = [\n",
    "    ('ridge', Ridge(alpha=15)),\n",
    "    ('XGB', xgbr),\n",
    "]\n",
    "stack = StackingRegressor(estimators=model_bench, final_estimator=LinearRegression())\n",
    "stack.fit(X_train_np, y_train_np)"
   ]
  },
  {
   "cell_type": "code",
   "execution_count": 10,
   "metadata": {},
   "outputs": [
    {
     "name": "stdout",
     "output_type": "stream",
     "text": [
      "tensor(2.6903, dtype=torch.float64) tensor(23.3246, dtype=torch.float64) 2438.5508337868005\n"
     ]
    },
    {
     "data": {
      "text/plain": [
       "[<matplotlib.lines.Line2D at 0x1c411eaa2d0>]"
      ]
     },
     "execution_count": 10,
     "metadata": {},
     "output_type": "execute_result"
    },
    {
     "data": {
      "image/png": "[encoded data removed]",
      "text/plain": [
       "<Figure size 640x480 with 1 Axes>"
      ]
     },
     "metadata": {},
     "output_type": "display_data"
    }
   ],
   "source": [
    "y_train_pred = stack.predict(X_train_np)\n",
    "train_loss = ((y_train_pred - y_train_np)**2)\n",
    "\n",
    "y_test_pred = stack.predict(X_test_np)\n",
    "test_loss = ((y_test_pred - y_test_np)**2)\n",
    "max(train_loss)**(1/2), max(test_loss)\n",
    "\n",
    "criterion = nn.MSELoss()\n",
    "train_loss_mean = criterion(torch.tensor(y_train_pred), torch.tensor(np.array(y_train_np)))\n",
    "test_loss_mean = criterion(torch.tensor(y_test_pred), torch.tensor(np.array(y_test_np)))\n",
    "print(train_loss_mean, test_loss_mean, max(test_loss))\n",
    "\n",
    "plt.plot(list(test_loss))"
   ]
  },
  {
   "cell_type": "markdown",
   "metadata": {},
   "source": [
    "### Validate"
   ]
  },
  {
   "cell_type": "code",
   "execution_count": null,
   "metadata": {},
   "outputs": [],
   "source": [
    "import pickle\n",
    "# trained model from ~\n",
    "with open(\"result/updated_models_first.pk\", \"rb\") as f:\n",
    "    model_history = pickle.load(f)\n",
    "# the final model for the algo\n",
    "model = model_history[list(model_history.keys())[-1]]['reorg']"
   ]
  },
  {
   "cell_type": "code",
   "execution_count": 5,
   "metadata": {},
   "outputs": [
    {
     "data": {
      "text/plain": [
       "(tensor(0.6482, device='cuda:0', dtype=torch.float64,\n",
       "        grad_fn=<MseLossBackward0>),\n",
       " tensor(55.7283, device='cuda:0', dtype=torch.float64,\n",
       "        grad_fn=<MseLossBackward0>))"
      ]
     },
     "execution_count": 5,
     "metadata": {},
     "output_type": "execute_result"
    }
   ],
   "source": [
    "# validate\n",
    "train_output = model(X_train)\n",
    "train_loss = criterion(train_output, y_train.reshape(-1, 1))\n",
    "\n",
    "test_output = model(X_test)\n",
    "test_loss = criterion(test_output, y_test.reshape(-1, 1))\n",
    "\n",
    "train_loss, test_loss"
   ]
  },
  {
   "cell_type": "code",
   "execution_count": 11,
   "metadata": {},
   "outputs": [
    {
     "data": {
      "text/plain": [
       "(4.1934333975694384,\n",
       " tensor(4.2025, device='cuda:0', dtype=torch.float64),\n",
       " array([6246.97232542]))"
      ]
     },
     "execution_count": 11,
     "metadata": {},
     "output_type": "execute_result"
    }
   ],
   "source": [
    "train_resid = (y_train.cpu().detach().numpy() - train_output.cpu().detach().numpy())**2\n",
    "test_resid = (y_test.cpu().detach().numpy() - test_output.cpu().detach().numpy())**2\n",
    "# test_resid = test_resid[test_resid != np.max(test_resid)]\n",
    "np.max(train_resid), learning_goal**2, max(test_resid)"
   ]
  },
  {
   "cell_type": "code",
   "execution_count": 7,
   "metadata": {},
   "outputs": [
    {
     "data": {
      "text/plain": [
       "[<matplotlib.lines.Line2D at 0x1c3e2533190>]"
      ]
     },
     "execution_count": 7,
     "metadata": {},
     "output_type": "execute_result"
    },
    {
     "data": {
      "image/png": "[encoded data removed]",
      "text/plain": [
       "<Figure size 640x480 with 1 Axes>"
      ]
     },
     "metadata": {},
     "output_type": "display_data"
    }
   ],
   "source": [
    "# plt.plot(train_resid)\n",
    "plt.plot(test_resid)"
   ]
  },
  {
   "cell_type": "code",
   "execution_count": 86,
   "metadata": {},
   "outputs": [
    {
     "data": {
      "image/png": "[encoded data removed]",
      "text/plain": [
       "<Figure size 640x480 with 1 Axes>"
      ]
     },
     "metadata": {},
     "output_type": "display_data"
    },
    {
     "data": {
      "text/plain": [
       "tensor([136.2709], dtype=torch.float64, grad_fn=<UnbindBackward0>)"
      ]
     },
     "execution_count": 86,
     "metadata": {},
     "output_type": "execute_result"
    }
   ],
   "source": [
    "# check residuals\n",
    "\n",
    "# Example tensor with continuous values\n",
    "resid_train = torch.square(model(X_train) - y_train)\n",
    "resid_test = torch.square(model(X_test) - y_test)\n",
    "\n",
    "# Plot the histogram\n",
    "plt.hist(resid_test.detach().numpy(), bins=100, color='blue', alpha=0.7)\n",
    "plt.xlabel('Values')\n",
    "plt.ylabel('Frequency')\n",
    "plt.title('Histogram of Continuous Values')\n",
    "plt.show()\n",
    "torch.var(resid_test)\n",
    "\n",
    "max(resid_test)"
   ]
  }
 ],
 "metadata": {
  "kernelspec": {
   "display_name": "Python 3.9.7 ('base')",
   "language": "python",
   "name": "python3"
  },
  "language_info": {
   "codemirror_mode": {
    "name": "ipython",
    "version": 3
   },
   "file_extension": ".py",
   "mimetype": "text/x-python",
   "name": "python",
   "nbconvert_exporter": "python",
   "pygments_lexer": "ipython3",
   "version": "3.11.7"
  },
  "orig_nbformat": 4,
  "vscode": {
   "interpreter": {
    "hash": "263930470851f494f0ed2879c35b57985588df20f9e529b86e97dd5eb9ddc466"
   }
  }
 },
 "nbformat": 4,
 "nbformat_minor": 2
}
