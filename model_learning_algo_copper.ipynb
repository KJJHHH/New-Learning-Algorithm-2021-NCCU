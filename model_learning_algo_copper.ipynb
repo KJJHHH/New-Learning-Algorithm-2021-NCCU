{
 "cells": [
  {
   "cell_type": "code",
   "execution_count": 4,
   "metadata": {},
   "outputs": [
    {
     "name": "stdout",
     "output_type": "stream",
     "text": [
      "The autoreload extension is already loaded. To reload it, use:\n",
      "  %reload_ext autoreload\n"
     ]
    }
   ],
   "source": [
    "%load_ext autoreload\n",
    "%autoreload 2\n",
    "from torch.utils.data import Dataset, DataLoader\n",
    "from sklearn.preprocessing import StandardScaler\n",
    "from sklearn.linear_model import LinearRegression\n",
    "import torch, copy\n",
    "import torch.nn as nn\n",
    "import torch.optim as optim\n",
    "import torch.utils.data as Data\n",
    "import torch.nn.functional as F\n",
    "import torchvision\n",
    "import  matplotlib.pyplot as plt\n",
    "import numpy as np\n",
    "import pandas as pd\n",
    "from module.Model import TwoLayerNet\n",
    "from module.Weight_tune import *\n",
    "from module.Reorg import *\n",
    "from module.Cram import *\n",
    "from module.Init import *\n",
    "from module.LTS import *\n",
    "from utils import *\n",
    "from module.Data import *\n",
    "import datetime\n",
    "\n",
    "\n",
    "\n"
   ]
  },
  {
   "cell_type": "markdown",
   "metadata": {},
   "source": [
    "# New Learning mechanism"
   ]
  },
  {
   "cell_type": "markdown",
   "metadata": {},
   "source": [
    "### Virtual env\n"
   ]
  },
  {
   "cell_type": "markdown",
   "metadata": {},
   "source": [
    "- fingpu, on GPU"
   ]
  },
  {
   "cell_type": "markdown",
   "metadata": {},
   "source": [
    "### Data"
   ]
  },
  {
   "cell_type": "code",
   "execution_count": 10,
   "metadata": {},
   "outputs": [
    {
     "data": {
      "text/plain": [
       "(device(type='cuda', index=0), device(type='cuda', index=0))"
      ]
     },
     "execution_count": 10,
     "metadata": {},
     "output_type": "execute_result"
    }
   ],
   "source": [
    "data = pd.read_csv(\"Copper_forecasting_data.csv\")\n",
    "X_train, X_test, y_train, y_test = preprocess(data)\n",
    "input_dim = X_train.shape[1]\n",
    "test_loader = loader(X_test, y_test)\n",
    "# check data device\n",
    "X_train.device, y_train.device\n"
   ]
  },
  {
   "cell_type": "markdown",
   "metadata": {},
   "source": [
    "### Config"
   ]
  },
  {
   "cell_type": "code",
   "execution_count": 11,
   "metadata": {},
   "outputs": [],
   "source": [
    "# learning goal: max eps < learning goal\n",
    "dtype = torch.float64\n",
    "learning_goal = torch.exp(torch.tensor(1)).to(dtype = dtype).to(device)\n",
    "lr_rate = .001\n",
    "lr_bound = 1e-5\n",
    "criterion = nn.MSELoss()\n",
    "epochs = 50\n",
    "\"\"\"\n",
    "# Note\n",
    "1. hidden dim should check the previous model. dynamically change\n",
    "2. For lr_rate, lr bound, lr goal (eps bound) are all the same fro eahc module\n",
    "\"\"\"\n",
    "\n",
    "# config for weight tune\n",
    "config_wt = {\n",
    "    \"epochs\": epochs,\n",
    "    \"criterion\": criterion,        # loss function\n",
    "    \"lr_rate\": lr_rate,            # learning rate \n",
    "    \"lr_bound\": lr_bound,          # lower bound of learning rate \n",
    "    \"lr_goal\": learning_goal,      # if regular eps < eps_reg: accept the model\n",
    "}\n",
    "\n",
    "# config for cram\n",
    "config_cram = {\n",
    "    \"lr_goal\": learning_goal, \n",
    "    \"s\": 0.001,                     # a small num in cram\n",
    "}\n",
    "\n",
    "# config for reorganise\n",
    "config_reorg  = {\n",
    "    \"epochs\": epochs,\n",
    "    \"criterion\": criterion,        # loss function\n",
    "    \"lr_rate\": lr_rate,            # learning rate \n",
    "    \"lr_bound\": lr_bound,          # lower bound of learning rate \n",
    "    \"lr_goal\": learning_goal,      # if regular eps < eps_reg: accept the model\n",
    "    \"print_reg\": False,            # print detail, eg. loss for each epoch, or not\n",
    "    \"print_w_tune\": False,         # print detail, eg. loss for each epoch, or not\n",
    "    \"validate_run\": False,         # validate the model, or not\n",
    "}\n",
    "# NOTE \n",
    "# 1. for leaning goals, if first using weightune and no LTS or otherthings, \n",
    "# 13 for getting acceptable wt | 10 not acceptable\n"
   ]
  },
  {
   "cell_type": "markdown",
   "metadata": {},
   "source": [
    "### Full Path"
   ]
  },
  {
   "cell_type": "markdown",
   "metadata": {},
   "source": [
    "- L11 p9, third learning mechanism\\\n",
    "`Check: should y add .reshape(-1, 1)? since some warning shows when testing the final model`\\\n",
    "`Check validate section`    \n",
    "`Check not using test data to train`"
   ]
  },
  {
   "cell_type": "code",
   "execution_count": 12,
   "metadata": {},
   "outputs": [
    {
     "name": "stdout",
     "output_type": "stream",
     "text": [
      "#######################################\n",
      "2024-01-06 22:06:16.517971\n",
      "#######################################\n",
      "\n",
      "\n",
      "\n",
      "\n",
      "=======================\n",
      "//////////// Start New lts\n",
      "Total obtaining n: 328\n",
      "obtaining n over lr goal: 0\n",
      "Total select n: 333\n",
      "select n over lr goal: 5\n",
      "//////////// Start module_EU_LG_UA Epoch\n",
      "////////// Start CRAM and REORG with unacceptable wt //////////\n",
      "model after wt: TwoLayerNet(\n",
      "  (layer_1): Linear(in_features=18, out_features=1, bias=True)\n",
      "  (layer_out): Linear(in_features=1, out_features=1, bias=True)\n",
      "  (relu): ReLU()\n",
      ")\n",
      "eps_square (last 10) before cram: tensor([6.9044, 7.2054, 7.2848, 7.3423, 7.3833, 7.5202, 7.6095, 7.6147, 7.6644,\n",
      "        7.6826], device='cuda:0', dtype=torch.float64, grad_fn=<ViewBackward0>)\n",
      "model after cram: TwoLayerNet(\n",
      "  (layer_1): Linear(in_features=18, out_features=16, bias=True)\n",
      "  (layer_out): Linear(in_features=16, out_features=1, bias=True)\n",
      "  (relu): ReLU()\n",
      ")\n",
      "eps_sqaure (last 10) after cram: tensor([6.9044e+00, 7.2054e+00, 7.2848e+00, 7.3423e+00, 7.3833e+00, 2.0601e-24,\n",
      "        2.8984e-22, 4.2732e-23, 5.8888e-25, 4.1717e-23], device='cuda:0',\n",
      "       dtype=torch.float64, grad_fn=<ViewBackward0>)\n"
     ]
    },
    {
     "name": "stderr",
     "output_type": "stream",
     "text": [
      "c:\\Users\\USER\\Desktop\\new_learning_algo\\module\\Cram.py:74: UserWarning: The use of `x.T` on tensors of dimension other than 2 to reverse their shape is deprecated and it will throw an error in a future release. Consider `x.mT` to transpose batches of matrices or `x.permute(*torch.arange(x.ndim - 1, -1, -1))` to reverse the dimensions of a tensor. (Triggered internally at C:\\cb\\pytorch_1000000000000\\work\\aten\\src\\ATen\\native\\TensorShape.cpp:3618.)\n",
      "  dots = ((X_no_k - self.X_train[k]) @ r.T)\n"
     ]
    },
    {
     "name": "stdout",
     "output_type": "stream",
     "text": [
      "-----> reorganising\n",
      "---> Checking nodes...0/16\n"
     ]
    },
    {
     "ename": "KeyboardInterrupt",
     "evalue": "",
     "output_type": "error",
     "traceback": [
      "\u001b[1;31m---------------------------------------------------------------------------\u001b[0m",
      "\u001b[1;31mKeyboardInterrupt\u001b[0m                         Traceback (most recent call last)",
      "Cell \u001b[1;32mIn[12], line 91\u001b[0m\n\u001b[0;32m     89\u001b[0m pre_module \u001b[38;5;241m=\u001b[39m \u001b[38;5;124m\"\u001b[39m\u001b[38;5;124mcram\u001b[39m\u001b[38;5;124m\"\u001b[39m\n\u001b[0;32m     90\u001b[0m reorg \u001b[38;5;241m=\u001b[39m reorganising(pre_module, train_loader, test_loader, out_file, \u001b[38;5;241m*\u001b[39m\u001b[38;5;241m*\u001b[39mconfig_reorg)\n\u001b[1;32m---> 91\u001b[0m \u001b[43mreorg\u001b[49m\u001b[38;5;241;43m.\u001b[39;49m\u001b[43mreorganising\u001b[49m\u001b[43m(\u001b[49m\u001b[43m)\u001b[49m\n\u001b[0;32m     92\u001b[0m \u001b[38;5;28;01mif\u001b[39;00m reorg\u001b[38;5;241m.\u001b[39mmodel \u001b[38;5;241m==\u001b[39m \u001b[38;5;124m\"\u001b[39m\u001b[38;5;124mfail regularise\u001b[39m\u001b[38;5;124m\"\u001b[39m \u001b[38;5;129;01mor\u001b[39;00m reorg\u001b[38;5;241m.\u001b[39mmodel \u001b[38;5;241m==\u001b[39m \u001b[38;5;124m\"\u001b[39m\u001b[38;5;124mno acceptable slfn\u001b[39m\u001b[38;5;124m\"\u001b[39m:\n\u001b[0;32m     93\u001b[0m     write(out_file, \u001b[38;5;124m\"\u001b[39m\u001b[38;5;124mweird reorg\u001b[39m\u001b[38;5;124m\"\u001b[39m)\n",
      "File \u001b[1;32mc:\\Users\\USER\\Desktop\\new_learning_algo\\module\\Reorg.py:312\u001b[0m, in \u001b[0;36mreorganising.reorganising\u001b[1;34m(self)\u001b[0m\n\u001b[0;32m    307\u001b[0m check_n \u001b[38;5;241m+\u001b[39m\u001b[38;5;241m=\u001b[39m \u001b[38;5;241m1\u001b[39m\n\u001b[0;32m    309\u001b[0m \u001b[38;5;66;03m#####################\u001b[39;00m\n\u001b[0;32m    310\u001b[0m \u001b[38;5;66;03m# regularizing\u001b[39;00m\n\u001b[0;32m    311\u001b[0m \u001b[38;5;66;03m# NOTE: from accpetable to acceptable\u001b[39;00m\n\u001b[1;32m--> 312\u001b[0m train_loss_list, test_loss_list \u001b[38;5;241m=\u001b[39m \u001b[38;5;28;43mself\u001b[39;49m\u001b[38;5;241;43m.\u001b[39;49m\u001b[43mregularising_EU_LG_UA\u001b[49m\u001b[43m(\u001b[49m\u001b[43m)\u001b[49m            \n\u001b[0;32m    313\u001b[0m acceptable, eps, y_pred \u001b[38;5;241m=\u001b[39m acceptable_eps_ypred(\u001b[38;5;28mself\u001b[39m\u001b[38;5;241m.\u001b[39mtrain_loader, \u001b[38;5;28mself\u001b[39m\u001b[38;5;241m.\u001b[39mmodel, \u001b[38;5;28mself\u001b[39m\u001b[38;5;241m.\u001b[39mlr_goal)\n\u001b[0;32m    314\u001b[0m loss_reg \u001b[38;5;241m=\u001b[39m validate_loss(\u001b[38;5;28mself\u001b[39m\u001b[38;5;241m.\u001b[39mmodel, \u001b[38;5;28mself\u001b[39m\u001b[38;5;241m.\u001b[39mtrain_loader, \u001b[38;5;28mself\u001b[39m\u001b[38;5;241m.\u001b[39mcriterion)\n",
      "File \u001b[1;32mc:\\Users\\USER\\Desktop\\new_learning_algo\\module\\Reorg.py:174\u001b[0m, in \u001b[0;36mreorganising.regularising_EU_LG_UA\u001b[1;34m(self)\u001b[0m\n\u001b[0;32m    171\u001b[0m train_loss \u001b[38;5;241m=\u001b[39m \u001b[38;5;241m0\u001b[39m\n\u001b[0;32m    173\u001b[0m \u001b[38;5;66;03m# forward operation\u001b[39;00m\n\u001b[1;32m--> 174\u001b[0m \u001b[38;5;28;01mfor\u001b[39;00m _, (X, y) \u001b[38;5;129;01min\u001b[39;00m \u001b[38;5;28menumerate\u001b[39m(\u001b[38;5;28mself\u001b[39m\u001b[38;5;241m.\u001b[39mtrain_loader):                \n\u001b[0;32m    175\u001b[0m     optimizer\u001b[38;5;241m.\u001b[39mzero_grad()\n\u001b[0;32m    176\u001b[0m     preds \u001b[38;5;241m=\u001b[39m \u001b[38;5;28mself\u001b[39m\u001b[38;5;241m.\u001b[39mmodel(X)\n",
      "File \u001b[1;32mc:\\Users\\USER\\anaconda3\\envs\\fingpu\\Lib\\site-packages\\torch\\utils\\data\\dataloader.py:630\u001b[0m, in \u001b[0;36m_BaseDataLoaderIter.__next__\u001b[1;34m(self)\u001b[0m\n\u001b[0;32m    627\u001b[0m \u001b[38;5;28;01mif\u001b[39;00m \u001b[38;5;28mself\u001b[39m\u001b[38;5;241m.\u001b[39m_sampler_iter \u001b[38;5;129;01mis\u001b[39;00m \u001b[38;5;28;01mNone\u001b[39;00m:\n\u001b[0;32m    628\u001b[0m     \u001b[38;5;66;03m# TODO(https://github.com/pytorch/pytorch/issues/76750)\u001b[39;00m\n\u001b[0;32m    629\u001b[0m     \u001b[38;5;28mself\u001b[39m\u001b[38;5;241m.\u001b[39m_reset()  \u001b[38;5;66;03m# type: ignore[call-arg]\u001b[39;00m\n\u001b[1;32m--> 630\u001b[0m data \u001b[38;5;241m=\u001b[39m \u001b[38;5;28;43mself\u001b[39;49m\u001b[38;5;241;43m.\u001b[39;49m\u001b[43m_next_data\u001b[49m\u001b[43m(\u001b[49m\u001b[43m)\u001b[49m\n\u001b[0;32m    631\u001b[0m \u001b[38;5;28mself\u001b[39m\u001b[38;5;241m.\u001b[39m_num_yielded \u001b[38;5;241m+\u001b[39m\u001b[38;5;241m=\u001b[39m \u001b[38;5;241m1\u001b[39m\n\u001b[0;32m    632\u001b[0m \u001b[38;5;28;01mif\u001b[39;00m \u001b[38;5;28mself\u001b[39m\u001b[38;5;241m.\u001b[39m_dataset_kind \u001b[38;5;241m==\u001b[39m _DatasetKind\u001b[38;5;241m.\u001b[39mIterable \u001b[38;5;129;01mand\u001b[39;00m \\\n\u001b[0;32m    633\u001b[0m         \u001b[38;5;28mself\u001b[39m\u001b[38;5;241m.\u001b[39m_IterableDataset_len_called \u001b[38;5;129;01mis\u001b[39;00m \u001b[38;5;129;01mnot\u001b[39;00m \u001b[38;5;28;01mNone\u001b[39;00m \u001b[38;5;129;01mand\u001b[39;00m \\\n\u001b[0;32m    634\u001b[0m         \u001b[38;5;28mself\u001b[39m\u001b[38;5;241m.\u001b[39m_num_yielded \u001b[38;5;241m>\u001b[39m \u001b[38;5;28mself\u001b[39m\u001b[38;5;241m.\u001b[39m_IterableDataset_len_called:\n",
      "File \u001b[1;32mc:\\Users\\USER\\anaconda3\\envs\\fingpu\\Lib\\site-packages\\torch\\utils\\data\\dataloader.py:674\u001b[0m, in \u001b[0;36m_SingleProcessDataLoaderIter._next_data\u001b[1;34m(self)\u001b[0m\n\u001b[0;32m    672\u001b[0m \u001b[38;5;28;01mdef\u001b[39;00m \u001b[38;5;21m_next_data\u001b[39m(\u001b[38;5;28mself\u001b[39m):\n\u001b[0;32m    673\u001b[0m     index \u001b[38;5;241m=\u001b[39m \u001b[38;5;28mself\u001b[39m\u001b[38;5;241m.\u001b[39m_next_index()  \u001b[38;5;66;03m# may raise StopIteration\u001b[39;00m\n\u001b[1;32m--> 674\u001b[0m     data \u001b[38;5;241m=\u001b[39m \u001b[38;5;28;43mself\u001b[39;49m\u001b[38;5;241;43m.\u001b[39;49m\u001b[43m_dataset_fetcher\u001b[49m\u001b[38;5;241;43m.\u001b[39;49m\u001b[43mfetch\u001b[49m\u001b[43m(\u001b[49m\u001b[43mindex\u001b[49m\u001b[43m)\u001b[49m  \u001b[38;5;66;03m# may raise StopIteration\u001b[39;00m\n\u001b[0;32m    675\u001b[0m     \u001b[38;5;28;01mif\u001b[39;00m \u001b[38;5;28mself\u001b[39m\u001b[38;5;241m.\u001b[39m_pin_memory:\n\u001b[0;32m    676\u001b[0m         data \u001b[38;5;241m=\u001b[39m _utils\u001b[38;5;241m.\u001b[39mpin_memory\u001b[38;5;241m.\u001b[39mpin_memory(data, \u001b[38;5;28mself\u001b[39m\u001b[38;5;241m.\u001b[39m_pin_memory_device)\n",
      "File \u001b[1;32mc:\\Users\\USER\\anaconda3\\envs\\fingpu\\Lib\\site-packages\\torch\\utils\\data\\_utils\\fetch.py:54\u001b[0m, in \u001b[0;36m_MapDatasetFetcher.fetch\u001b[1;34m(self, possibly_batched_index)\u001b[0m\n\u001b[0;32m     52\u001b[0m \u001b[38;5;28;01melse\u001b[39;00m:\n\u001b[0;32m     53\u001b[0m     data \u001b[38;5;241m=\u001b[39m \u001b[38;5;28mself\u001b[39m\u001b[38;5;241m.\u001b[39mdataset[possibly_batched_index]\n\u001b[1;32m---> 54\u001b[0m \u001b[38;5;28;01mreturn\u001b[39;00m \u001b[38;5;28;43mself\u001b[39;49m\u001b[38;5;241;43m.\u001b[39;49m\u001b[43mcollate_fn\u001b[49m\u001b[43m(\u001b[49m\u001b[43mdata\u001b[49m\u001b[43m)\u001b[49m\n",
      "File \u001b[1;32mc:\\Users\\USER\\anaconda3\\envs\\fingpu\\Lib\\site-packages\\torch\\utils\\data\\_utils\\collate.py:265\u001b[0m, in \u001b[0;36mdefault_collate\u001b[1;34m(batch)\u001b[0m\n\u001b[0;32m    204\u001b[0m \u001b[38;5;28;01mdef\u001b[39;00m \u001b[38;5;21mdefault_collate\u001b[39m(batch):\n\u001b[0;32m    205\u001b[0m \u001b[38;5;250m    \u001b[39m\u001b[38;5;124mr\u001b[39m\u001b[38;5;124;03m\"\"\"\u001b[39;00m\n\u001b[0;32m    206\u001b[0m \u001b[38;5;124;03m        Function that takes in a batch of data and puts the elements within the batch\u001b[39;00m\n\u001b[0;32m    207\u001b[0m \u001b[38;5;124;03m        into a tensor with an additional outer dimension - batch size. The exact output type can be\u001b[39;00m\n\u001b[1;32m   (...)\u001b[0m\n\u001b[0;32m    263\u001b[0m \u001b[38;5;124;03m            >>> default_collate(batch)  # Handle `CustomType` automatically\u001b[39;00m\n\u001b[0;32m    264\u001b[0m \u001b[38;5;124;03m    \"\"\"\u001b[39;00m\n\u001b[1;32m--> 265\u001b[0m     \u001b[38;5;28;01mreturn\u001b[39;00m \u001b[43mcollate\u001b[49m\u001b[43m(\u001b[49m\u001b[43mbatch\u001b[49m\u001b[43m,\u001b[49m\u001b[43m \u001b[49m\u001b[43mcollate_fn_map\u001b[49m\u001b[38;5;241;43m=\u001b[39;49m\u001b[43mdefault_collate_fn_map\u001b[49m\u001b[43m)\u001b[49m\n",
      "File \u001b[1;32mc:\\Users\\USER\\anaconda3\\envs\\fingpu\\Lib\\site-packages\\torch\\utils\\data\\_utils\\collate.py:142\u001b[0m, in \u001b[0;36mcollate\u001b[1;34m(batch, collate_fn_map)\u001b[0m\n\u001b[0;32m    139\u001b[0m transposed \u001b[38;5;241m=\u001b[39m \u001b[38;5;28mlist\u001b[39m(\u001b[38;5;28mzip\u001b[39m(\u001b[38;5;241m*\u001b[39mbatch))  \u001b[38;5;66;03m# It may be accessed twice, so we use a list.\u001b[39;00m\n\u001b[0;32m    141\u001b[0m \u001b[38;5;28;01mif\u001b[39;00m \u001b[38;5;28misinstance\u001b[39m(elem, \u001b[38;5;28mtuple\u001b[39m):\n\u001b[1;32m--> 142\u001b[0m     \u001b[38;5;28;01mreturn\u001b[39;00m \u001b[43m[\u001b[49m\u001b[43mcollate\u001b[49m\u001b[43m(\u001b[49m\u001b[43msamples\u001b[49m\u001b[43m,\u001b[49m\u001b[43m \u001b[49m\u001b[43mcollate_fn_map\u001b[49m\u001b[38;5;241;43m=\u001b[39;49m\u001b[43mcollate_fn_map\u001b[49m\u001b[43m)\u001b[49m\u001b[43m \u001b[49m\u001b[38;5;28;43;01mfor\u001b[39;49;00m\u001b[43m \u001b[49m\u001b[43msamples\u001b[49m\u001b[43m \u001b[49m\u001b[38;5;129;43;01min\u001b[39;49;00m\u001b[43m \u001b[49m\u001b[43mtransposed\u001b[49m\u001b[43m]\u001b[49m  \u001b[38;5;66;03m# Backwards compatibility.\u001b[39;00m\n\u001b[0;32m    143\u001b[0m \u001b[38;5;28;01melse\u001b[39;00m:\n\u001b[0;32m    144\u001b[0m     \u001b[38;5;28;01mtry\u001b[39;00m:\n",
      "File \u001b[1;32mc:\\Users\\USER\\anaconda3\\envs\\fingpu\\Lib\\site-packages\\torch\\utils\\data\\_utils\\collate.py:142\u001b[0m, in \u001b[0;36m<listcomp>\u001b[1;34m(.0)\u001b[0m\n\u001b[0;32m    139\u001b[0m transposed \u001b[38;5;241m=\u001b[39m \u001b[38;5;28mlist\u001b[39m(\u001b[38;5;28mzip\u001b[39m(\u001b[38;5;241m*\u001b[39mbatch))  \u001b[38;5;66;03m# It may be accessed twice, so we use a list.\u001b[39;00m\n\u001b[0;32m    141\u001b[0m \u001b[38;5;28;01mif\u001b[39;00m \u001b[38;5;28misinstance\u001b[39m(elem, \u001b[38;5;28mtuple\u001b[39m):\n\u001b[1;32m--> 142\u001b[0m     \u001b[38;5;28;01mreturn\u001b[39;00m [\u001b[43mcollate\u001b[49m\u001b[43m(\u001b[49m\u001b[43msamples\u001b[49m\u001b[43m,\u001b[49m\u001b[43m \u001b[49m\u001b[43mcollate_fn_map\u001b[49m\u001b[38;5;241;43m=\u001b[39;49m\u001b[43mcollate_fn_map\u001b[49m\u001b[43m)\u001b[49m \u001b[38;5;28;01mfor\u001b[39;00m samples \u001b[38;5;129;01min\u001b[39;00m transposed]  \u001b[38;5;66;03m# Backwards compatibility.\u001b[39;00m\n\u001b[0;32m    143\u001b[0m \u001b[38;5;28;01melse\u001b[39;00m:\n\u001b[0;32m    144\u001b[0m     \u001b[38;5;28;01mtry\u001b[39;00m:\n",
      "File \u001b[1;32mc:\\Users\\USER\\anaconda3\\envs\\fingpu\\Lib\\site-packages\\torch\\utils\\data\\_utils\\collate.py:119\u001b[0m, in \u001b[0;36mcollate\u001b[1;34m(batch, collate_fn_map)\u001b[0m\n\u001b[0;32m    117\u001b[0m \u001b[38;5;28;01mif\u001b[39;00m collate_fn_map \u001b[38;5;129;01mis\u001b[39;00m \u001b[38;5;129;01mnot\u001b[39;00m \u001b[38;5;28;01mNone\u001b[39;00m:\n\u001b[0;32m    118\u001b[0m     \u001b[38;5;28;01mif\u001b[39;00m elem_type \u001b[38;5;129;01min\u001b[39;00m collate_fn_map:\n\u001b[1;32m--> 119\u001b[0m         \u001b[38;5;28;01mreturn\u001b[39;00m \u001b[43mcollate_fn_map\u001b[49m\u001b[43m[\u001b[49m\u001b[43melem_type\u001b[49m\u001b[43m]\u001b[49m\u001b[43m(\u001b[49m\u001b[43mbatch\u001b[49m\u001b[43m,\u001b[49m\u001b[43m \u001b[49m\u001b[43mcollate_fn_map\u001b[49m\u001b[38;5;241;43m=\u001b[39;49m\u001b[43mcollate_fn_map\u001b[49m\u001b[43m)\u001b[49m\n\u001b[0;32m    121\u001b[0m     \u001b[38;5;28;01mfor\u001b[39;00m collate_type \u001b[38;5;129;01min\u001b[39;00m collate_fn_map:\n\u001b[0;32m    122\u001b[0m         \u001b[38;5;28;01mif\u001b[39;00m \u001b[38;5;28misinstance\u001b[39m(elem, collate_type):\n",
      "File \u001b[1;32mc:\\Users\\USER\\anaconda3\\envs\\fingpu\\Lib\\site-packages\\torch\\utils\\data\\_utils\\collate.py:162\u001b[0m, in \u001b[0;36mcollate_tensor_fn\u001b[1;34m(batch, collate_fn_map)\u001b[0m\n\u001b[0;32m    160\u001b[0m     storage \u001b[38;5;241m=\u001b[39m elem\u001b[38;5;241m.\u001b[39m_typed_storage()\u001b[38;5;241m.\u001b[39m_new_shared(numel, device\u001b[38;5;241m=\u001b[39melem\u001b[38;5;241m.\u001b[39mdevice)\n\u001b[0;32m    161\u001b[0m     out \u001b[38;5;241m=\u001b[39m elem\u001b[38;5;241m.\u001b[39mnew(storage)\u001b[38;5;241m.\u001b[39mresize_(\u001b[38;5;28mlen\u001b[39m(batch), \u001b[38;5;241m*\u001b[39m\u001b[38;5;28mlist\u001b[39m(elem\u001b[38;5;241m.\u001b[39msize()))\n\u001b[1;32m--> 162\u001b[0m \u001b[38;5;28;01mreturn\u001b[39;00m \u001b[43mtorch\u001b[49m\u001b[38;5;241;43m.\u001b[39;49m\u001b[43mstack\u001b[49m\u001b[43m(\u001b[49m\u001b[43mbatch\u001b[49m\u001b[43m,\u001b[49m\u001b[43m \u001b[49m\u001b[38;5;241;43m0\u001b[39;49m\u001b[43m,\u001b[49m\u001b[43m \u001b[49m\u001b[43mout\u001b[49m\u001b[38;5;241;43m=\u001b[39;49m\u001b[43mout\u001b[49m\u001b[43m)\u001b[49m\n",
      "\u001b[1;31mKeyboardInterrupt\u001b[0m: "
     ]
    }
   ],
   "source": [
    "#################################################################\n",
    "# Full step for the learning algorithm mechanism\n",
    "# NOTE\n",
    "# 1. model right before reorg always need to be acceptable model\n",
    "# 2. model after cram and reorg always need to be acceptable \n",
    "# 3. check for the above every time after cram and reorg\n",
    "# 4. the randomness: in cram find r\n",
    "#################################################################\n",
    "from module.Cram import *\n",
    "from module.Reorg import *\n",
    "from module.Weight_tune import *\n",
    "\n",
    "# 0. Open log file\n",
    "file_create_time = str(datetime.datetime.now().date())\n",
    "out_file = open(f\"log/{file_create_time}\" + '.txt', 'a')\n",
    "write(out_file, f\"#######################################\")\n",
    "write(out_file, str(datetime.datetime.now()))\n",
    "write(out_file, f\"#######################################\")\n",
    "\n",
    "# 1. initializing_1_ReLU_LR | L11 p2\n",
    "\n",
    "model = init_model(X_train, y_train)\n",
    "n = 0\n",
    "n_not_fit = 5\n",
    "model_history = {}\n",
    "\n",
    "\n",
    "while n < len(X_train):\n",
    "    write(out_file, f\"\\n\\n\\n\")\n",
    "    write(out_file, f\"=======================\")\n",
    "    write(out_file, f\"//////////// Start New lts\")\n",
    "    models_within_iter = {}\n",
    "    # 2. obtaining_LTS / selecting_LTS\n",
    "    train_loader, indices, X_train_lts, y_train_lts, n = \\\n",
    "        lts(model, X_train, y_train, learning_goal, n_not_fit, out_file)\n",
    "\n",
    "    # 3. check learning goal\n",
    "    acceptable, eps_sqaure, y_pred = acceptable_eps_ypred(train_loader, model, learning_goal)\n",
    "    models_within_iter[\"begin\"] = model\n",
    "    if acceptable:\n",
    "        continue\n",
    "\n",
    "    else:\n",
    "        torch.save(model, \"unacceptable/selecting.pth\")\n",
    "\n",
    "        # store model in acceptable/wt.pth if acceptable\n",
    "        # store model in unacceptable/wt.pth if not acceptable\n",
    "        write(out_file, f\"//////////// Start module_EU_LG_UA Epoch\")\n",
    "        acceptable, model, train_loss_list, test_loss_list = \\\n",
    "            module_weight_EU_LG_UA(model, train_loader, test_loader, out_file, **config_wt)\n",
    "        models_within_iter[\"wt\"] = model\n",
    "        \n",
    "        if acceptable:\n",
    "            write(out_file, \"////////// Start REORG with accpetable wt\")   \n",
    "            write(out_file, f\"model after wt: {model}\")\n",
    "            \n",
    "            # load model in acceptable/wt.pth if wt acceptable\n",
    "            pre_module = \"wt\"\n",
    "            reorg = reorganising(pre_module, train_loader, test_loader, out_file, **config_reorg)\n",
    "            reorg.reorganising()\n",
    "            model = reorg.model\n",
    "            models_within_iter[\"reorg\"] = model\n",
    "            write(out_file, f\"model after reorg: {model}\")\n",
    "\n",
    "        else:\n",
    "            write(out_file, \"////////// Start CRAM and REORG with unacceptable wt //////////\")\n",
    "\n",
    "            # load model before wt: unacceptable/selecting.pth if unacceptable after wt\n",
    "            model = torch.load(\"unacceptable/selecting.pth\")    \n",
    "            acceptable, eps_square, y_pred = acceptable_eps_ypred(train_loader, model, learning_goal)\n",
    "            write(out_file, f\"model after wt: {model}\")\n",
    "            write(out_file, f\"eps_square (last 10) before cram: {eps_square[-10:].reshape(-1)}\")\n",
    "\n",
    "            # load model in unacceptable/wt.pth if wt not acceptable       \n",
    "            # store acceptable cram in acceptable/cram.pth \n",
    "            cram = cramming(model, X_train[indices], y_train[indices], out_file, **config_cram)            \n",
    "            cram.cram() \n",
    "            model = cram.model\n",
    "            models_within_iter[\"cram\"] = model\n",
    "            acceptable, eps_square, y_pred = acceptable_eps_ypred(train_loader, model, learning_goal)\n",
    "            write(out_file, f\"model after cram: {model}\")  \n",
    "            write(out_file, f\"eps_sqaure (last 10) after cram: {eps_square[-10:].reshape(-1)}\")\n",
    "            if not acceptable:\n",
    "                write(out_file, \"weird cram\\n\")\n",
    "                break\n",
    "\n",
    "            # load model in acceptable/cram.pth if cram acceptable\n",
    "            # store acceptable cram in acceptable/cram.pth\n",
    "            pre_module = \"cram\"\n",
    "            reorg = reorganising(pre_module, train_loader, test_loader, out_file, **config_reorg)\n",
    "            reorg.reorganising()\n",
    "            if reorg.model == \"fail regularise\" or reorg.model == \"no acceptable slfn\":\n",
    "                write(out_file, \"weird reorg\")\n",
    "\n",
    "            model = reorg.model\n",
    "            models_within_iter[\"reorg\"] = model\n",
    "            write(out_file, f\"model after reorg: {model}\")\n",
    "\n",
    "            # check \n",
    "            acceptable, eps_square, y_pred = acceptable_eps_ypred(train_loader, model, learning_goal)\n",
    "            if acceptable:\n",
    "                pass\n",
    "            else:\n",
    "                write(out_file, \"weird reorg\")\n",
    "                break\n",
    "            \n",
    "    model_history[n] = models_within_iter\n",
    "\n",
    "    "
   ]
  },
  {
   "cell_type": "code",
   "execution_count": 38,
   "metadata": {},
   "outputs": [
    {
     "data": {
      "text/plain": [
       "'\\nwith open(\"result/updated_models_first.pk\", \"rb\") as f:\\n    model_history = pickle.load(f)\\n'"
      ]
     },
     "execution_count": 38,
     "metadata": {},
     "output_type": "execute_result"
    }
   ],
   "source": [
    "# stores models\n",
    "\"\"\"\n",
    "import pickle\n",
    "with open(f\"result/updated_models_{datetime.datetime.now().date()}.pk\", \"wb\") as f:\n",
    "    pickle.dump(model_history, f)\n",
    "out_file.close()\n",
    "\n",
    "with open(\"result/updated_models_first.pk\", \"rb\") as f:\n",
    "    model_history = pickle.load(f)\n",
    "\"\"\""
   ]
  },
  {
   "cell_type": "code",
   "execution_count": 67,
   "metadata": {},
   "outputs": [],
   "source": [
    "import pickle\n",
    "# store models\n",
    "# model trained\n",
    "with open(\"result/updated_models_first.pk\", \"rb\") as f:\n",
    "    model_history = pickle.load(f)\n",
    "# the final model for the algo\n",
    "model = model_history[list(model_history.keys())[-1]]['reorg']\n"
   ]
  },
  {
   "cell_type": "code",
   "execution_count": null,
   "metadata": {},
   "outputs": [],
   "source": [
    "# all train loader\n",
    "train_loader = torch.utils.data.DataLoader(\n",
    "    MyDataset(X_train.to(device), y_train.to(device)), \n",
    "    batch_size = batch_size, \n",
    "    shuffle=False, \n",
    "    drop_last = False)\n"
   ]
  },
  {
   "cell_type": "code",
   "execution_count": 68,
   "metadata": {},
   "outputs": [
    {
     "data": {
      "text/plain": [
       "(1.3655678954334651, 19.585845570990124)"
      ]
     },
     "execution_count": 68,
     "metadata": {},
     "output_type": "execute_result"
    }
   ],
   "source": [
    "# validate\n",
    "train_loss = 0\n",
    "for x, y in train_loader:\n",
    "    output = model(x)\n",
    "    loss = criterion(output, y.reshape(-1, 1))\n",
    "    train_loss += loss.item()\n",
    "train_loss/=len(train_loader)\n",
    "\n",
    "test_loss = 0\n",
    "for x, y in test_loader:\n",
    "    output = model(x)\n",
    "    loss = criterion(output, y.reshape(-1, 1))\n",
    "    test_loss += loss.item()\n",
    "test_loss/=len(test_loader)\n",
    "\n",
    "train_loss, test_loss"
   ]
  },
  {
   "cell_type": "code",
   "execution_count": 86,
   "metadata": {},
   "outputs": [
    {
     "data": {
      "image/png": "[encoded data removed]",
      "text/plain": [
       "<Figure size 640x480 with 1 Axes>"
      ]
     },
     "metadata": {},
     "output_type": "display_data"
    },
    {
     "data": {
      "text/plain": [
       "tensor([136.2709], dtype=torch.float64, grad_fn=<UnbindBackward0>)"
      ]
     },
     "execution_count": 86,
     "metadata": {},
     "output_type": "execute_result"
    }
   ],
   "source": [
    "# check residuals\n",
    "\n",
    "# Example tensor with continuous values\n",
    "resid_train = torch.square(model(X_train) - y_train)\n",
    "resid_test = torch.square(model(X_test) - y_test)\n",
    "\n",
    "# Plot the histogram\n",
    "plt.hist(resid_test.detach().numpy(), bins=100, color='blue', alpha=0.7)\n",
    "plt.xlabel('Values')\n",
    "plt.ylabel('Frequency')\n",
    "plt.title('Histogram of Continuous Values')\n",
    "plt.show()\n",
    "torch.var(resid_test)\n",
    "\n",
    "max(resid_test)"
   ]
  },
  {
   "cell_type": "markdown",
   "metadata": {},
   "source": [
    "### Benchmark"
   ]
  },
  {
   "cell_type": "code",
   "execution_count": 34,
   "metadata": {},
   "outputs": [],
   "source": [
    "# all train loader\n",
    "train_loader = torch.utils.data.DataLoader(\n",
    "    MyDataset(X_train.to(device), y_train.to(device)), \n",
    "    batch_size = batch_size, \n",
    "    shuffle=False, \n",
    "    drop_last = False)"
   ]
  },
  {
   "cell_type": "code",
   "execution_count": 83,
   "metadata": {},
   "outputs": [
    {
     "data": {
      "text/plain": [
       "tensor([18.1326, 16.9158, 13.2685, 11.1682, 10.9249, 10.8018,  9.7288,  9.6721,\n",
       "         8.9870,  8.6979,  8.3708,  7.2126,  5.7095,  5.3920,  5.3462,  5.0408,\n",
       "         5.0166,  4.7506,  4.6864,  4.6416,  4.5574,  4.4782,  4.3233,  4.0983,\n",
       "         3.7779,  3.6808,  3.5915,  3.4926,  3.4802,  3.3064],\n",
       "       dtype=torch.float64, grad_fn=<TopkBackward0>)"
      ]
     },
     "execution_count": 83,
     "metadata": {},
     "output_type": "execute_result"
    }
   ],
   "source": [
    "# two layers\n",
    "bench_model = TwoLayerNet(18, 50, 1)\n",
    "criterion = nn.MSELoss()\n",
    "train_loss_list = []\n",
    "test_loss_list = []\n",
    "optimizer = optim.SGD(bench_model.parameters(), lr=0.001)\n",
    "\n",
    "for i in range(2000):\n",
    "    for x, y in train_loader:\n",
    "        preds = bench_model(x)\n",
    "        loss = criterion(preds, y.reshape(-1, 1))\n",
    "        loss.backward()\n",
    "        optimizer.step()\n",
    "        optimizer.zero_grad()\n",
    "\n",
    "    train_loss = 0\n",
    "    for x, y in train_loader:\n",
    "        output = bench_model(x)\n",
    "        loss = criterion(output, y.reshape(-1, 1))\n",
    "        train_loss += loss.item()\n",
    "    train_loss/=len(train_loader)\n",
    "    train_loss_list.append(train_loss)\n",
    "\n",
    "    test_loss = 0\n",
    "    for x, y in test_loader:\n",
    "        output = bench_model(x)\n",
    "        loss = criterion(output, y.reshape(-1, 1))\n",
    "        test_loss += loss.item()\n",
    "    test_loss/=len(test_loader)\n",
    "    test_loss_list.append(test_loss)\n",
    "    \n",
    "# max resid\n",
    "torch.max(torch.square(bench_model(X_train) - y_train.reshape(-1, 1)))\n",
    "# top k resid\n",
    "torch.topk(torch.square(bench_model(X_train) - y_train.reshape(-1, 1)).reshape(-1), k = 30).values"
   ]
  },
  {
   "cell_type": "code",
   "execution_count": 87,
   "metadata": {},
   "outputs": [
    {
     "data": {
      "image/png": "[encoded data removed]",
      "text/plain": [
       "<Figure size 1500x700 with 1 Axes>"
      ]
     },
     "metadata": {},
     "output_type": "display_data"
    },
    {
     "data": {
      "text/plain": [
       "(tensor(532.0978, dtype=torch.float64, grad_fn=<VarBackward0>),\n",
       " tensor(1760.7822, dtype=torch.float64, grad_fn=<VarBackward0>),\n",
       " tensor([223.8624], dtype=torch.float64, grad_fn=<UnbindBackward0>))"
      ]
     },
     "execution_count": 87,
     "metadata": {},
     "output_type": "execute_result"
    }
   ],
   "source": [
    "import torch\n",
    "import matplotlib.pyplot as plt\n",
    "\n",
    "# Example tensor with continuous values\n",
    "bench_resid_train = torch.square(bench_model(X_train) - y_train)\n",
    "bench_resid_test = torch.square(bench_model(X_test) - y_test)\n",
    "resid_train = torch.square(model(X_train) - y_train)\n",
    "resid_test = torch.square(model(X_test) - y_test)\n",
    "\n",
    "# Plot the histogram\n",
    "plt.figure(figsize=(15, 7))\n",
    "plt.hist(resid_test.detach().numpy(), bins=100, color='blue', alpha=0.7, label = \"Learning algo\")\n",
    "plt.hist(bench_resid_test.detach().numpy(), bins=100, color='red', alpha=0.7, label = \"bench\")\n",
    "plt.xlabel('Values')\n",
    "plt.ylabel('Frequency')\n",
    "plt.title('Histogram of squared residuals')\n",
    "plt.show()\n",
    "torch.var(resid_test), torch.var(bench_resid_test), max(bench_resid_test)"
   ]
  },
  {
   "cell_type": "code",
   "execution_count": 84,
   "metadata": {},
   "outputs": [
    {
     "data": {
      "image/png": "[encoded data removed]",
      "text/plain": [
       "<Figure size 1500x700 with 1 Axes>"
      ]
     },
     "metadata": {},
     "output_type": "display_data"
    },
    {
     "data": {
      "text/plain": [
       "(1.0752453951867, 19.261671371204095)"
      ]
     },
     "execution_count": 84,
     "metadata": {},
     "output_type": "execute_result"
    }
   ],
   "source": [
    "loss = pd.DataFrame({\"train\": train_loss_list, \"test\": test_loss_list})\n",
    "plt.figure(figsize=(15,7))\n",
    "plt.plot(loss[\"train\"][00:], label = \"train_loss\")\n",
    "plt.plot(loss[\"test\"][00:], label = \"test_loss\" )\n",
    "plt.title(\"Epoch 10000\")\n",
    "plt.xlabel(\"Epoch\")\n",
    "plt.ylabel(\"Loss\")\n",
    "plt.legend()\n",
    "plt.show()\n",
    "\"\"\"\n",
    "index = loss[\"test\"].idxmin()\n",
    "loss[loss.index == index]\n",
    "\"\"\"\n",
    "train_loss_list[-1], test_loss_list[-1]"
   ]
  },
  {
   "cell_type": "code",
   "execution_count": null,
   "metadata": {},
   "outputs": [],
   "source": [
    "# Three layer net\n",
    "import torch\n",
    "import torch.nn as nn\n",
    "import torch.optim as optim\n",
    "\n",
    "# Define the neural network class\n",
    "class ThreeLayerNet(nn.Module):\n",
    "    def __init__(self, input_size, hidden_size, output_size):\n",
    "        super(ThreeLayerNet, self).__init__()\n",
    "        self.layer1 = nn.Linear(input_size, hidden_size).to(dtype=dtype)\n",
    "        self.relu = nn.ReLU().to(dtype=dtype)\n",
    "        self.layer2 = nn.Linear(hidden_size, output_size).to(dtype=dtype)\n",
    "        self.sigmoid = nn.ReLU().to(dtype=dtype)\n",
    "\n",
    "    def forward(self, x):\n",
    "        x = self.layer1(x)\n",
    "        x = self.relu(x)\n",
    "        x = self.layer2(x)\n",
    "        x = self.sigmoid(x)\n",
    "        return x\n",
    "\n",
    "# Create an instance of the ThreeLayerNet class\n",
    "input_size = 18\n",
    "hidden_size = 50\n",
    "output_size = 1\n",
    "bench_model = ThreeLayerNet(input_size, hidden_size, output_size)\n",
    "\n",
    "# Define the loss function and optimizer\n",
    "criterion = nn.MSELoss()\n",
    "optimizer = optim.Adam(bench_model.parameters(), lr=0.001)\n",
    "\n",
    "# \n",
    "train_loss_list = []\n",
    "test_loss_list = []\n",
    "\n",
    "for i in range(10000):\n",
    "    train_loss = 0\n",
    "    for x, y in train_loader:\n",
    "        preds = bench_model(x)\n",
    "        loss = criterion(preds, y.reshape(-1, 1))\n",
    "        loss.backward()\n",
    "        optimizer.step()\n",
    "        optimizer.zero_grad()\n",
    "        train_loss += loss.item()\n",
    "\n",
    "\n",
    "    train_loss = 0\n",
    "    for x, y in train_loader:\n",
    "        output = bench_model(x)\n",
    "        loss = criterion(output, y.reshape(-1, 1))\n",
    "        train_loss += loss.item()\n",
    "    train_loss/=len(train_loader)\n",
    "    train_loss_list.append(train_loss)\n",
    "\n",
    "    test_loss = 0\n",
    "    for x, y in test_loader:\n",
    "        output = bench_model(x)\n",
    "        loss = criterion(output, y.reshape(-1, 1))\n",
    "        test_loss += loss.item()\n",
    "    test_loss/=len(test_loader)    \n",
    "    test_loss_list.append(test_loss)\n",
    "\n",
    "\n",
    "loss = pd.DataFrame({\"train\": train_loss_list, \"test\": test_loss_list})\n",
    "plt.figure(figsize=(15,7))\n",
    "plt.plot(loss[\"train\"][1000:], label = \"train_loss\")\n",
    "plt.plot(loss[\"test\"][1000:], label = \"test_loss\" )\n",
    "plt.title(\"Epoch 10000\")\n",
    "plt.xlabel(\"Epoch\")\n",
    "plt.ylabel(\"Loss\")\n",
    "plt.legend()\n",
    "plt.show()\n",
    "index = loss[\"test\"].idxmin()\n",
    "loss[loss.index == index]"
   ]
  }
 ],
 "metadata": {
  "kernelspec": {
   "display_name": "Python 3.9.7 ('base')",
   "language": "python",
   "name": "python3"
  },
  "language_info": {
   "codemirror_mode": {
    "name": "ipython",
    "version": 3
   },
   "file_extension": ".py",
   "mimetype": "text/x-python",
   "name": "python",
   "nbconvert_exporter": "python",
   "pygments_lexer": "ipython3",
   "version": "3.11.7"
  },
  "orig_nbformat": 4,
  "vscode": {
   "interpreter": {
    "hash": "263930470851f494f0ed2879c35b57985588df20f9e529b86e97dd5eb9ddc466"
   }
  }
 },
 "nbformat": 4,
 "nbformat_minor": 2
}
